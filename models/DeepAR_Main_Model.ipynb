{
  "cells": [
    {
      "cell_type": "markdown",
      "metadata": {},
      "source": [
        "#  Noteebook to fit and plot DeepAR for time series forecasting.\n",
        "\n",
        "Written by Baris Yazici as part of the Practitioners Challenge 2024 at LSE."
      ]
    },
    {
      "cell_type": "markdown",
      "metadata": {},
      "source": [
        "# Libraries"
      ]
    },
    {
      "cell_type": "code",
      "execution_count": null,
      "metadata": {},
      "outputs": [],
      "source": [
        "# Run the line below if gluonts torch is not installed in your computer.\n",
        "# pip install \"gluonts[torch]\""
      ]
    },
    {
      "cell_type": "code",
      "execution_count": null,
      "metadata": {
        "colab": {
          "base_uri": "https://localhost:8080/"
        },
        "id": "tmQit8EOEbY_",
        "outputId": "917ab956-c791-43b3-b31f-be53ba7da088"
      },
      "outputs": [],
      "source": [
        "import pandas as pd\n",
        "import matplotlib.pyplot as plt\n",
        "\n",
        "from gluonts.dataset.pandas import PandasDataset\n",
        "from gluonts.dataset.split import split\n",
        "from gluonts.torch import DeepAREstimator\n",
        "\n",
        "from scipy.interpolate import UnivariateSpline"
      ]
    },
    {
      "cell_type": "markdown",
      "metadata": {
        "id": "qcvKzG2sSDFT"
      },
      "source": [
        "# Helper Functions\n",
        "1.   The function \"fill_missing_with_spline\" handles missing values in time series using splines.\n",
        "2.   The function \"prepare_dataframes_from_uploaded_files\" extract file names from the loaded csv files.\n"
      ]
    },
    {
      "cell_type": "code",
      "execution_count": null,
      "metadata": {
        "id": "Z4c7tZaiSAng"
      },
      "outputs": [],
      "source": [
        "# Function to fill missing values in time series using splines\n",
        "def fill_missing_with_spline(series):\n",
        "    # Extract indices of null values\n",
        "    null_indices = series[series.isnull()].index\n",
        "    # Extract non-null values\n",
        "    non_null_values = series.dropna()\n",
        "    # Create spline interpolation object with specified s value\n",
        "    spline = UnivariateSpline(non_null_values.index.astype(int), non_null_values.values, s=2)\n",
        "    # Interpolate null values\n",
        "    interpolated_values = spline(null_indices.astype(int))\n",
        "    # Replace null values with interpolated values\n",
        "    series.loc[null_indices] = interpolated_values\n",
        "    return series"
      ]
    },
    {
      "cell_type": "code",
      "execution_count": null,
      "metadata": {
        "id": "ejmrNPsGPLLJ"
      },
      "outputs": [],
      "source": [
        "import os\n",
        "from google.colab import files\n",
        "\n",
        "# Function to read uploaded CSV files and prepare dataframes list\n",
        "def prepare_dataframes_from_uploaded_files(uploaded_files):\n",
        "    dataframes = []\n",
        "    for name, content in uploaded_files.items():\n",
        "        name_without_extension = os.path.splitext(name)[0]  # Extract original file name without extension\n",
        "        dataframes.append((name_without_extension, name))\n",
        "    return dataframes"
      ]
    },
    {
      "cell_type": "markdown",
      "metadata": {},
      "source": [
        "# Function to Fit and Plot DeepAR"
      ]
    },
    {
      "cell_type": "code",
      "execution_count": null,
      "metadata": {
        "id": "r-yt8QlcgrSt"
      },
      "outputs": [],
      "source": [
        "def deepar_fit_and_plot(dataframes):\n",
        "    # Load data from CSV files and apply spline interpolation\n",
        "    dfs = []\n",
        "    for name, filename in dataframes:\n",
        "        df = pd.read_csv(filename, index_col=0, parse_dates=True)\n",
        "        df.index = pd.to_datetime(df.index)\n",
        "        df = df.asfreq('D')\n",
        "        df = df.apply(fill_missing_with_spline, axis=0)\n",
        "        df.reset_index(inplace=True)\n",
        "        df['source'] = name\n",
        "        dfs.append(df)\n",
        "\n",
        "    # Combine the dataframes vertically\n",
        "    df = pd.concat(dfs, ignore_index=True).sort_values('Date')\n",
        "\n",
        "    dataset = PandasDataset.from_long_dataframe(\n",
        "        dataframe=df,\n",
        "        target='DCCrho',\n",
        "        item_id='source',\n",
        "        timestamp='Date',\n",
        "        freq='D')\n",
        "\n",
        "    training_data, test_gen = split(dataset, offset=-240)\n",
        "    test_data = test_gen.generate_instances(prediction_length=10, windows=24)\n",
        "\n",
        "    # Train the model\n",
        "    model = DeepAREstimator(\n",
        "        prediction_length=10,\n",
        "        freq=\"D\",\n",
        "        dropout_rate=0.5,\n",
        "        num_layers=4,\n",
        "        lr=0.02,\n",
        "        trainer_kwargs={\"max_epochs\": 10}\n",
        "    ).train(training_data)\n",
        "\n",
        "    forecasts = list(model.predict(test_data.input))\n",
        "\n",
        "    # Plot predictions\n",
        "    for name, _ in dataframes:\n",
        "        plt.figure(figsize=(12, 6))\n",
        "        df_temp = df[df['source'] == name]\n",
        "        plt.plot(df_temp[\"Date\"], df_temp[\"DCCrho\"], color='#377eb8', label='True values (' + name + ')')\n",
        "        for forecast in forecasts:\n",
        "            if forecast.item_id == name:\n",
        "                forecast.plot(color='#e41a1c')\n",
        "        # we chose colors from https://gist.github.com/thriveth/8560036\n",
        "        # a color blind/friendly color cycle for Matplotlib line plots.\n",
        "\n",
        "        # Limiting x-axis\n",
        "        plt.xlim(pd.Timestamp('2023-03-01'), pd.Timestamp('2023-12-31'))  # Specify the start and end dates for the x-axis\n",
        "\n",
        "        plt.legend(fontsize=\"small\")\n",
        "        plt.title(name + ' Predictions')\n",
        "        plt.show()"
      ]
    },
    {
      "cell_type": "markdown",
      "metadata": {},
      "source": [
        "# Example Use"
      ]
    },
    {
      "cell_type": "code",
      "execution_count": null,
      "metadata": {
        "colab": {
          "base_uri": "https://localhost:8080/",
          "height": 1000,
          "referenced_widgets": [
            "1fb961ff1a48489cb56e89c5fc9f85a8",
            "fb23eb9495ab4125b4d9eb01005c1f10",
            "29bf044a7a6b49d6840123920fa9b3c5",
            "d811418aa92248a8b2641c092ea83033",
            "cc1329b21135486ab6fe8c6b3d5aa5d9",
            "db24b72398cb45a5a60f39b59721ab01",
            "2d388889e8214628bf9c4fca1e8a25cf",
            "b0f32375fdff4a3799bee20c3df1c685",
            "61cd8287cd134ade837b6947dabce3ae",
            "a59d94f8fcc441f98588e78c9f08cce4",
            "273cb6306b574242a5ee097b1f77bd59"
          ]
        },
        "id": "LdpXwgGCP5vJ",
        "outputId": "17307112-6280-43d9-f73f-732451e40994"
      },
      "outputs": [],
      "source": [
        "# Upload CSV files that have a column called \"DCCrho\" for correlations and corresponding dates.\n",
        "uploaded = files.upload()\n",
        "\n",
        "# Prepare the dataframes to input deepar\n",
        "dataframes = prepare_dataframes_from_uploaded_files(uploaded)\n",
        "\n",
        "# Run the function to fit the model and see the plots\n",
        "deepar_fit_and_plot(dataframes)"
      ]
    }
  ],
  "metadata": {
    "colab": {
      "provenance": []
    },
    "kernelspec": {
      "display_name": "Python 3",
      "name": "python3"
    },
    "language_info": {
      "name": "python"
    },
    "widgets": {
      "application/vnd.jupyter.widget-state+json": {
        "1fb961ff1a48489cb56e89c5fc9f85a8": {
          "model_module": "@jupyter-widgets/controls",
          "model_module_version": "1.5.0",
          "model_name": "HBoxModel",
          "state": {
            "_dom_classes": [],
            "_model_module": "@jupyter-widgets/controls",
            "_model_module_version": "1.5.0",
            "_model_name": "HBoxModel",
            "_view_count": null,
            "_view_module": "@jupyter-widgets/controls",
            "_view_module_version": "1.5.0",
            "_view_name": "HBoxView",
            "box_style": "",
            "children": [
              "IPY_MODEL_fb23eb9495ab4125b4d9eb01005c1f10",
              "IPY_MODEL_29bf044a7a6b49d6840123920fa9b3c5",
              "IPY_MODEL_d811418aa92248a8b2641c092ea83033"
            ],
            "layout": "IPY_MODEL_cc1329b21135486ab6fe8c6b3d5aa5d9"
          }
        },
        "273cb6306b574242a5ee097b1f77bd59": {
          "model_module": "@jupyter-widgets/controls",
          "model_module_version": "1.5.0",
          "model_name": "DescriptionStyleModel",
          "state": {
            "_model_module": "@jupyter-widgets/controls",
            "_model_module_version": "1.5.0",
            "_model_name": "DescriptionStyleModel",
            "_view_count": null,
            "_view_module": "@jupyter-widgets/base",
            "_view_module_version": "1.2.0",
            "_view_name": "StyleView",
            "description_width": ""
          }
        },
        "29bf044a7a6b49d6840123920fa9b3c5": {
          "model_module": "@jupyter-widgets/controls",
          "model_module_version": "1.5.0",
          "model_name": "FloatProgressModel",
          "state": {
            "_dom_classes": [],
            "_model_module": "@jupyter-widgets/controls",
            "_model_module_version": "1.5.0",
            "_model_name": "FloatProgressModel",
            "_view_count": null,
            "_view_module": "@jupyter-widgets/controls",
            "_view_module_version": "1.5.0",
            "_view_name": "ProgressView",
            "bar_style": "success",
            "description": "",
            "description_tooltip": null,
            "layout": "IPY_MODEL_b0f32375fdff4a3799bee20c3df1c685",
            "max": 1,
            "min": 0,
            "orientation": "horizontal",
            "style": "IPY_MODEL_61cd8287cd134ade837b6947dabce3ae",
            "value": 1
          }
        },
        "2d388889e8214628bf9c4fca1e8a25cf": {
          "model_module": "@jupyter-widgets/controls",
          "model_module_version": "1.5.0",
          "model_name": "DescriptionStyleModel",
          "state": {
            "_model_module": "@jupyter-widgets/controls",
            "_model_module_version": "1.5.0",
            "_model_name": "DescriptionStyleModel",
            "_view_count": null,
            "_view_module": "@jupyter-widgets/base",
            "_view_module_version": "1.2.0",
            "_view_name": "StyleView",
            "description_width": ""
          }
        },
        "61cd8287cd134ade837b6947dabce3ae": {
          "model_module": "@jupyter-widgets/controls",
          "model_module_version": "1.5.0",
          "model_name": "ProgressStyleModel",
          "state": {
            "_model_module": "@jupyter-widgets/controls",
            "_model_module_version": "1.5.0",
            "_model_name": "ProgressStyleModel",
            "_view_count": null,
            "_view_module": "@jupyter-widgets/base",
            "_view_module_version": "1.2.0",
            "_view_name": "StyleView",
            "bar_color": null,
            "description_width": ""
          }
        },
        "a59d94f8fcc441f98588e78c9f08cce4": {
          "model_module": "@jupyter-widgets/base",
          "model_module_version": "1.2.0",
          "model_name": "LayoutModel",
          "state": {
            "_model_module": "@jupyter-widgets/base",
            "_model_module_version": "1.2.0",
            "_model_name": "LayoutModel",
            "_view_count": null,
            "_view_module": "@jupyter-widgets/base",
            "_view_module_version": "1.2.0",
            "_view_name": "LayoutView",
            "align_content": null,
            "align_items": null,
            "align_self": null,
            "border": null,
            "bottom": null,
            "display": null,
            "flex": null,
            "flex_flow": null,
            "grid_area": null,
            "grid_auto_columns": null,
            "grid_auto_flow": null,
            "grid_auto_rows": null,
            "grid_column": null,
            "grid_gap": null,
            "grid_row": null,
            "grid_template_areas": null,
            "grid_template_columns": null,
            "grid_template_rows": null,
            "height": null,
            "justify_content": null,
            "justify_items": null,
            "left": null,
            "margin": null,
            "max_height": null,
            "max_width": null,
            "min_height": null,
            "min_width": null,
            "object_fit": null,
            "object_position": null,
            "order": null,
            "overflow": null,
            "overflow_x": null,
            "overflow_y": null,
            "padding": null,
            "right": null,
            "top": null,
            "visibility": null,
            "width": null
          }
        },
        "b0f32375fdff4a3799bee20c3df1c685": {
          "model_module": "@jupyter-widgets/base",
          "model_module_version": "1.2.0",
          "model_name": "LayoutModel",
          "state": {
            "_model_module": "@jupyter-widgets/base",
            "_model_module_version": "1.2.0",
            "_model_name": "LayoutModel",
            "_view_count": null,
            "_view_module": "@jupyter-widgets/base",
            "_view_module_version": "1.2.0",
            "_view_name": "LayoutView",
            "align_content": null,
            "align_items": null,
            "align_self": null,
            "border": null,
            "bottom": null,
            "display": null,
            "flex": "2",
            "flex_flow": null,
            "grid_area": null,
            "grid_auto_columns": null,
            "grid_auto_flow": null,
            "grid_auto_rows": null,
            "grid_column": null,
            "grid_gap": null,
            "grid_row": null,
            "grid_template_areas": null,
            "grid_template_columns": null,
            "grid_template_rows": null,
            "height": null,
            "justify_content": null,
            "justify_items": null,
            "left": null,
            "margin": null,
            "max_height": null,
            "max_width": null,
            "min_height": null,
            "min_width": null,
            "object_fit": null,
            "object_position": null,
            "order": null,
            "overflow": null,
            "overflow_x": null,
            "overflow_y": null,
            "padding": null,
            "right": null,
            "top": null,
            "visibility": null,
            "width": null
          }
        },
        "cc1329b21135486ab6fe8c6b3d5aa5d9": {
          "model_module": "@jupyter-widgets/base",
          "model_module_version": "1.2.0",
          "model_name": "LayoutModel",
          "state": {
            "_model_module": "@jupyter-widgets/base",
            "_model_module_version": "1.2.0",
            "_model_name": "LayoutModel",
            "_view_count": null,
            "_view_module": "@jupyter-widgets/base",
            "_view_module_version": "1.2.0",
            "_view_name": "LayoutView",
            "align_content": null,
            "align_items": null,
            "align_self": null,
            "border": null,
            "bottom": null,
            "display": "inline-flex",
            "flex": null,
            "flex_flow": "row wrap",
            "grid_area": null,
            "grid_auto_columns": null,
            "grid_auto_flow": null,
            "grid_auto_rows": null,
            "grid_column": null,
            "grid_gap": null,
            "grid_row": null,
            "grid_template_areas": null,
            "grid_template_columns": null,
            "grid_template_rows": null,
            "height": null,
            "justify_content": null,
            "justify_items": null,
            "left": null,
            "margin": null,
            "max_height": null,
            "max_width": null,
            "min_height": null,
            "min_width": null,
            "object_fit": null,
            "object_position": null,
            "order": null,
            "overflow": null,
            "overflow_x": null,
            "overflow_y": null,
            "padding": null,
            "right": null,
            "top": null,
            "visibility": null,
            "width": "100%"
          }
        },
        "d811418aa92248a8b2641c092ea83033": {
          "model_module": "@jupyter-widgets/controls",
          "model_module_version": "1.5.0",
          "model_name": "HTMLModel",
          "state": {
            "_dom_classes": [],
            "_model_module": "@jupyter-widgets/controls",
            "_model_module_version": "1.5.0",
            "_model_name": "HTMLModel",
            "_view_count": null,
            "_view_module": "@jupyter-widgets/controls",
            "_view_module_version": "1.5.0",
            "_view_name": "HTMLView",
            "description": "",
            "description_tooltip": null,
            "layout": "IPY_MODEL_a59d94f8fcc441f98588e78c9f08cce4",
            "placeholder": "​",
            "style": "IPY_MODEL_273cb6306b574242a5ee097b1f77bd59",
            "value": " 50/? [00:05&lt;00:00,  8.77it/s, v_num=2, train_loss=-2.11]"
          }
        },
        "db24b72398cb45a5a60f39b59721ab01": {
          "model_module": "@jupyter-widgets/base",
          "model_module_version": "1.2.0",
          "model_name": "LayoutModel",
          "state": {
            "_model_module": "@jupyter-widgets/base",
            "_model_module_version": "1.2.0",
            "_model_name": "LayoutModel",
            "_view_count": null,
            "_view_module": "@jupyter-widgets/base",
            "_view_module_version": "1.2.0",
            "_view_name": "LayoutView",
            "align_content": null,
            "align_items": null,
            "align_self": null,
            "border": null,
            "bottom": null,
            "display": null,
            "flex": null,
            "flex_flow": null,
            "grid_area": null,
            "grid_auto_columns": null,
            "grid_auto_flow": null,
            "grid_auto_rows": null,
            "grid_column": null,
            "grid_gap": null,
            "grid_row": null,
            "grid_template_areas": null,
            "grid_template_columns": null,
            "grid_template_rows": null,
            "height": null,
            "justify_content": null,
            "justify_items": null,
            "left": null,
            "margin": null,
            "max_height": null,
            "max_width": null,
            "min_height": null,
            "min_width": null,
            "object_fit": null,
            "object_position": null,
            "order": null,
            "overflow": null,
            "overflow_x": null,
            "overflow_y": null,
            "padding": null,
            "right": null,
            "top": null,
            "visibility": null,
            "width": null
          }
        },
        "fb23eb9495ab4125b4d9eb01005c1f10": {
          "model_module": "@jupyter-widgets/controls",
          "model_module_version": "1.5.0",
          "model_name": "HTMLModel",
          "state": {
            "_dom_classes": [],
            "_model_module": "@jupyter-widgets/controls",
            "_model_module_version": "1.5.0",
            "_model_name": "HTMLModel",
            "_view_count": null,
            "_view_module": "@jupyter-widgets/controls",
            "_view_module_version": "1.5.0",
            "_view_name": "HTMLView",
            "description": "",
            "description_tooltip": null,
            "layout": "IPY_MODEL_db24b72398cb45a5a60f39b59721ab01",
            "placeholder": "​",
            "style": "IPY_MODEL_2d388889e8214628bf9c4fca1e8a25cf",
            "value": "Epoch 9: "
          }
        }
      }
    }
  },
  "nbformat": 4,
  "nbformat_minor": 0
}
