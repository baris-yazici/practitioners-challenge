{
  "cells": [
    {
      "cell_type": "code",
      "execution_count": null,
      "metadata": {
        "id": "gShKMBO3_ABQ"
      },
      "outputs": [],
      "source": [
        "!pip install \"gluonts[torch]\""
      ]
    },
    {
      "cell_type": "code",
      "execution_count": null,
      "metadata": {},
      "outputs": [],
      "source": [
        "import pandas as pd\n",
        "import matplotlib.pyplot as plt\n",
        "\n",
        "from gluonts.dataset.pandas import PandasDataset\n",
        "from gluonts.dataset.split import split\n",
        "from gluonts.torch import DeepAREstimator\n",
        "from scipy.interpolate import UnivariateSpline"
      ]
    },
    {
      "cell_type": "code",
      "execution_count": null,
      "metadata": {
        "id": "r-yt8QlcgrSt"
      },
      "outputs": [],
      "source": [
        "# helper function that fills missing values\n",
        "def fill_missing_with_spline(series):\n",
        "    # Extract indices of null values\n",
        "    null_indices = series[series.isnull()].index\n",
        "    # Extract non-null values\n",
        "    non_null_values = series.dropna()\n",
        "    # Create spline interpolation object with specified s value\n",
        "    spline = UnivariateSpline(non_null_values.index.astype(int), non_null_values.values, s=2)\n",
        "    # Interpolate null values\n",
        "    interpolated_values = spline(null_indices.astype(int))\n",
        "    # Replace null values with interpolated values\n",
        "    series.loc[null_indices] = interpolated_values\n",
        "    return series\n",
        "\n",
        "# function to fit deepar and plot forecasts\n",
        "def deepar_fit_and_plot(dataframes):\n",
        "    # Load data from CSV files and apply spline interpolation\n",
        "    dfs = []\n",
        "    for name, filename in dataframes:\n",
        "        df = pd.read_csv(filename, index_col=0, parse_dates=True)\n",
        "        df.index = pd.to_datetime(df.index)\n",
        "        df = df.asfreq('D')\n",
        "        df = df.apply(fill_missing_with_spline, axis=0)\n",
        "        df.reset_index(inplace=True)\n",
        "        df['source'] = name\n",
        "        dfs.append(df)\n",
        "\n",
        "    # Combine the dataframes vertically\n",
        "    df = pd.concat(dfs, ignore_index=True).sort_values('Date')\n",
        "\n",
        "    dataset = PandasDataset.from_long_dataframe(\n",
        "        dataframe=df,\n",
        "        target='DCCrho',\n",
        "        item_id='source',\n",
        "        timestamp='Date',\n",
        "        freq='D')\n",
        "\n",
        "    training_data, test_gen = split(dataset, offset=-240)\n",
        "    test_data = test_gen.generate_instances(prediction_length=10, windows=24)\n",
        "\n",
        "    # Train the model\n",
        "    model = DeepAREstimator(\n",
        "        prediction_length=10,\n",
        "        freq=\"D\",\n",
        "        dropout_rate=0.5,\n",
        "        num_layers=4,\n",
        "        lr=0.02,\n",
        "        trainer_kwargs={\"max_epochs\": 10}\n",
        "    ).train(training_data)\n",
        "\n",
        "    forecasts = list(model.predict(test_data.input))\n",
        "\n",
        "    # Plot predictions\n",
        "    for name, _ in dataframes:\n",
        "        plt.figure(figsize=(12, 6))\n",
        "        df_temp = df[df['source'] == name]\n",
        "        plt.plot(df_temp[\"Date\"], df_temp[\"DCCrho\"], color='blue', label='True values (' + name + ')')\n",
        "        for forecast in forecasts:\n",
        "            if forecast.item_id == name:\n",
        "                forecast.plot(color='red')\n",
        "\n",
        "        # Limiting x-axis\n",
        "        plt.xlim(pd.Timestamp('2023-03-01'), pd.Timestamp('2023-12-31'))  # Specify the start and end dates for the x-axis\n",
        "\n",
        "        plt.legend(fontsize=\"small\")\n",
        "        plt.title(name + ' Predictions')\n",
        "        plt.show()"
      ]
    },
    {
      "cell_type": "code",
      "execution_count": null,
      "metadata": {
        "id": "KjP8QLXAi6HV"
      },
      "outputs": [],
      "source": [
        "# Example usage:\n",
        "# Input data frames with dates as index and dcc correlation estimates on column 1\n",
        "\n",
        "dataframes = [('df1', 'DCCrho_bba_petr.csv'),\n",
        "              ('df2', 'DCCrho_bba_ypf.csv')]\n",
        "\n",
        "deepar_fit_and_plot(dataframes)"
      ]
    }
  ],
  "metadata": {
    "colab": {
      "provenance": []
    },
    "kernelspec": {
      "display_name": "Python 3",
      "name": "python3"
    },
    "language_info": {
      "name": "python"
    }
  },
  "nbformat": 4,
  "nbformat_minor": 0
}
