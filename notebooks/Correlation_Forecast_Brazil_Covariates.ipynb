{
  "nbformat": 4,
  "nbformat_minor": 0,
  "metadata": {
    "colab": {
      "provenance": []
    },
    "kernelspec": {
      "name": "python3",
      "display_name": "Python 3"
    },
    "language_info": {
      "name": "python"
    },
    "widgets": {
      "application/vnd.jupyter.widget-state+json": {
        "11907a2881464a70a10aa5eb6d63099e": {
          "model_module": "@jupyter-widgets/controls",
          "model_name": "HBoxModel",
          "model_module_version": "1.5.0",
          "state": {
            "_dom_classes": [],
            "_model_module": "@jupyter-widgets/controls",
            "_model_module_version": "1.5.0",
            "_model_name": "HBoxModel",
            "_view_count": null,
            "_view_module": "@jupyter-widgets/controls",
            "_view_module_version": "1.5.0",
            "_view_name": "HBoxView",
            "box_style": "",
            "children": [
              "IPY_MODEL_f00e41c24e0b4fb38a653de914fa3c4a",
              "IPY_MODEL_9982158d43e5420d894df9b93be0ba68",
              "IPY_MODEL_a62640592aaa4156b444de9c61386060"
            ],
            "layout": "IPY_MODEL_874b506fcfc94e888030ab39a6fff724"
          }
        },
        "f00e41c24e0b4fb38a653de914fa3c4a": {
          "model_module": "@jupyter-widgets/controls",
          "model_name": "HTMLModel",
          "model_module_version": "1.5.0",
          "state": {
            "_dom_classes": [],
            "_model_module": "@jupyter-widgets/controls",
            "_model_module_version": "1.5.0",
            "_model_name": "HTMLModel",
            "_view_count": null,
            "_view_module": "@jupyter-widgets/controls",
            "_view_module_version": "1.5.0",
            "_view_name": "HTMLView",
            "description": "",
            "description_tooltip": null,
            "layout": "IPY_MODEL_d4652420bf5a4c289bdec0a308eae4b9",
            "placeholder": "​",
            "style": "IPY_MODEL_b8219b40f47649ff9e5a7b9ee4560274",
            "value": "Epoch 9: "
          }
        },
        "9982158d43e5420d894df9b93be0ba68": {
          "model_module": "@jupyter-widgets/controls",
          "model_name": "FloatProgressModel",
          "model_module_version": "1.5.0",
          "state": {
            "_dom_classes": [],
            "_model_module": "@jupyter-widgets/controls",
            "_model_module_version": "1.5.0",
            "_model_name": "FloatProgressModel",
            "_view_count": null,
            "_view_module": "@jupyter-widgets/controls",
            "_view_module_version": "1.5.0",
            "_view_name": "ProgressView",
            "bar_style": "success",
            "description": "",
            "description_tooltip": null,
            "layout": "IPY_MODEL_874a4d224b894fe6af21ae0888449312",
            "max": 1,
            "min": 0,
            "orientation": "horizontal",
            "style": "IPY_MODEL_1421be413374487a8f2b15fbc2f6a3f2",
            "value": 1
          }
        },
        "a62640592aaa4156b444de9c61386060": {
          "model_module": "@jupyter-widgets/controls",
          "model_name": "HTMLModel",
          "model_module_version": "1.5.0",
          "state": {
            "_dom_classes": [],
            "_model_module": "@jupyter-widgets/controls",
            "_model_module_version": "1.5.0",
            "_model_name": "HTMLModel",
            "_view_count": null,
            "_view_module": "@jupyter-widgets/controls",
            "_view_module_version": "1.5.0",
            "_view_name": "HTMLView",
            "description": "",
            "description_tooltip": null,
            "layout": "IPY_MODEL_1677c67f8ae3438dbe4fe1f4f881021c",
            "placeholder": "​",
            "style": "IPY_MODEL_2a5227fc4c3647fb90c5c50272e154ae",
            "value": " 50/? [00:07&lt;00:00,  7.14it/s, v_num=8, train_loss=-2.07]"
          }
        },
        "874b506fcfc94e888030ab39a6fff724": {
          "model_module": "@jupyter-widgets/base",
          "model_name": "LayoutModel",
          "model_module_version": "1.2.0",
          "state": {
            "_model_module": "@jupyter-widgets/base",
            "_model_module_version": "1.2.0",
            "_model_name": "LayoutModel",
            "_view_count": null,
            "_view_module": "@jupyter-widgets/base",
            "_view_module_version": "1.2.0",
            "_view_name": "LayoutView",
            "align_content": null,
            "align_items": null,
            "align_self": null,
            "border": null,
            "bottom": null,
            "display": "inline-flex",
            "flex": null,
            "flex_flow": "row wrap",
            "grid_area": null,
            "grid_auto_columns": null,
            "grid_auto_flow": null,
            "grid_auto_rows": null,
            "grid_column": null,
            "grid_gap": null,
            "grid_row": null,
            "grid_template_areas": null,
            "grid_template_columns": null,
            "grid_template_rows": null,
            "height": null,
            "justify_content": null,
            "justify_items": null,
            "left": null,
            "margin": null,
            "max_height": null,
            "max_width": null,
            "min_height": null,
            "min_width": null,
            "object_fit": null,
            "object_position": null,
            "order": null,
            "overflow": null,
            "overflow_x": null,
            "overflow_y": null,
            "padding": null,
            "right": null,
            "top": null,
            "visibility": null,
            "width": "100%"
          }
        },
        "d4652420bf5a4c289bdec0a308eae4b9": {
          "model_module": "@jupyter-widgets/base",
          "model_name": "LayoutModel",
          "model_module_version": "1.2.0",
          "state": {
            "_model_module": "@jupyter-widgets/base",
            "_model_module_version": "1.2.0",
            "_model_name": "LayoutModel",
            "_view_count": null,
            "_view_module": "@jupyter-widgets/base",
            "_view_module_version": "1.2.0",
            "_view_name": "LayoutView",
            "align_content": null,
            "align_items": null,
            "align_self": null,
            "border": null,
            "bottom": null,
            "display": null,
            "flex": null,
            "flex_flow": null,
            "grid_area": null,
            "grid_auto_columns": null,
            "grid_auto_flow": null,
            "grid_auto_rows": null,
            "grid_column": null,
            "grid_gap": null,
            "grid_row": null,
            "grid_template_areas": null,
            "grid_template_columns": null,
            "grid_template_rows": null,
            "height": null,
            "justify_content": null,
            "justify_items": null,
            "left": null,
            "margin": null,
            "max_height": null,
            "max_width": null,
            "min_height": null,
            "min_width": null,
            "object_fit": null,
            "object_position": null,
            "order": null,
            "overflow": null,
            "overflow_x": null,
            "overflow_y": null,
            "padding": null,
            "right": null,
            "top": null,
            "visibility": null,
            "width": null
          }
        },
        "b8219b40f47649ff9e5a7b9ee4560274": {
          "model_module": "@jupyter-widgets/controls",
          "model_name": "DescriptionStyleModel",
          "model_module_version": "1.5.0",
          "state": {
            "_model_module": "@jupyter-widgets/controls",
            "_model_module_version": "1.5.0",
            "_model_name": "DescriptionStyleModel",
            "_view_count": null,
            "_view_module": "@jupyter-widgets/base",
            "_view_module_version": "1.2.0",
            "_view_name": "StyleView",
            "description_width": ""
          }
        },
        "874a4d224b894fe6af21ae0888449312": {
          "model_module": "@jupyter-widgets/base",
          "model_name": "LayoutModel",
          "model_module_version": "1.2.0",
          "state": {
            "_model_module": "@jupyter-widgets/base",
            "_model_module_version": "1.2.0",
            "_model_name": "LayoutModel",
            "_view_count": null,
            "_view_module": "@jupyter-widgets/base",
            "_view_module_version": "1.2.0",
            "_view_name": "LayoutView",
            "align_content": null,
            "align_items": null,
            "align_self": null,
            "border": null,
            "bottom": null,
            "display": null,
            "flex": "2",
            "flex_flow": null,
            "grid_area": null,
            "grid_auto_columns": null,
            "grid_auto_flow": null,
            "grid_auto_rows": null,
            "grid_column": null,
            "grid_gap": null,
            "grid_row": null,
            "grid_template_areas": null,
            "grid_template_columns": null,
            "grid_template_rows": null,
            "height": null,
            "justify_content": null,
            "justify_items": null,
            "left": null,
            "margin": null,
            "max_height": null,
            "max_width": null,
            "min_height": null,
            "min_width": null,
            "object_fit": null,
            "object_position": null,
            "order": null,
            "overflow": null,
            "overflow_x": null,
            "overflow_y": null,
            "padding": null,
            "right": null,
            "top": null,
            "visibility": null,
            "width": null
          }
        },
        "1421be413374487a8f2b15fbc2f6a3f2": {
          "model_module": "@jupyter-widgets/controls",
          "model_name": "ProgressStyleModel",
          "model_module_version": "1.5.0",
          "state": {
            "_model_module": "@jupyter-widgets/controls",
            "_model_module_version": "1.5.0",
            "_model_name": "ProgressStyleModel",
            "_view_count": null,
            "_view_module": "@jupyter-widgets/base",
            "_view_module_version": "1.2.0",
            "_view_name": "StyleView",
            "bar_color": null,
            "description_width": ""
          }
        },
        "1677c67f8ae3438dbe4fe1f4f881021c": {
          "model_module": "@jupyter-widgets/base",
          "model_name": "LayoutModel",
          "model_module_version": "1.2.0",
          "state": {
            "_model_module": "@jupyter-widgets/base",
            "_model_module_version": "1.2.0",
            "_model_name": "LayoutModel",
            "_view_count": null,
            "_view_module": "@jupyter-widgets/base",
            "_view_module_version": "1.2.0",
            "_view_name": "LayoutView",
            "align_content": null,
            "align_items": null,
            "align_self": null,
            "border": null,
            "bottom": null,
            "display": null,
            "flex": null,
            "flex_flow": null,
            "grid_area": null,
            "grid_auto_columns": null,
            "grid_auto_flow": null,
            "grid_auto_rows": null,
            "grid_column": null,
            "grid_gap": null,
            "grid_row": null,
            "grid_template_areas": null,
            "grid_template_columns": null,
            "grid_template_rows": null,
            "height": null,
            "justify_content": null,
            "justify_items": null,
            "left": null,
            "margin": null,
            "max_height": null,
            "max_width": null,
            "min_height": null,
            "min_width": null,
            "object_fit": null,
            "object_position": null,
            "order": null,
            "overflow": null,
            "overflow_x": null,
            "overflow_y": null,
            "padding": null,
            "right": null,
            "top": null,
            "visibility": null,
            "width": null
          }
        },
        "2a5227fc4c3647fb90c5c50272e154ae": {
          "model_module": "@jupyter-widgets/controls",
          "model_name": "DescriptionStyleModel",
          "model_module_version": "1.5.0",
          "state": {
            "_model_module": "@jupyter-widgets/controls",
            "_model_module_version": "1.5.0",
            "_model_name": "DescriptionStyleModel",
            "_view_count": null,
            "_view_module": "@jupyter-widgets/base",
            "_view_module_version": "1.2.0",
            "_view_name": "StyleView",
            "description_width": ""
          }
        }
      }
    }
  },
  "cells": [
    {
      "cell_type": "code",
      "execution_count": 1,
      "metadata": {
        "colab": {
          "base_uri": "https://localhost:8080/"
        },
        "id": "gShKMBO3_ABQ",
        "outputId": "ef859966-c3c1-4afc-e2a9-03ba6fb4a528"
      },
      "outputs": [
        {
          "output_type": "stream",
          "name": "stdout",
          "text": [
            "Collecting gluonts[torch]\n",
            "  Downloading gluonts-0.14.4-py3-none-any.whl (1.5 MB)\n",
            "\u001b[2K     \u001b[90m━━━━━━━━━━━━━━━━━━━━━━━━━━━━━━━━━━━━━━━━\u001b[0m \u001b[32m1.5/1.5 MB\u001b[0m \u001b[31m9.3 MB/s\u001b[0m eta \u001b[36m0:00:00\u001b[0m\n",
            "\u001b[?25hRequirement already satisfied: numpy~=1.16 in /usr/local/lib/python3.10/dist-packages (from gluonts[torch]) (1.25.2)\n",
            "Requirement already satisfied: pandas<2.2.0,>=1.0 in /usr/local/lib/python3.10/dist-packages (from gluonts[torch]) (1.5.3)\n",
            "Requirement already satisfied: pydantic<3,>=1.7 in /usr/local/lib/python3.10/dist-packages (from gluonts[torch]) (2.6.1)\n",
            "Requirement already satisfied: tqdm~=4.23 in /usr/local/lib/python3.10/dist-packages (from gluonts[torch]) (4.66.2)\n",
            "Requirement already satisfied: toolz~=0.10 in /usr/local/lib/python3.10/dist-packages (from gluonts[torch]) (0.12.1)\n",
            "Requirement already satisfied: typing-extensions~=4.0 in /usr/local/lib/python3.10/dist-packages (from gluonts[torch]) (4.9.0)\n",
            "Requirement already satisfied: torch<3,>=1.9 in /usr/local/lib/python3.10/dist-packages (from gluonts[torch]) (2.1.0+cu121)\n",
            "Collecting lightning<2.2,>=2.0 (from gluonts[torch])\n",
            "  Downloading lightning-2.1.4-py3-none-any.whl (2.0 MB)\n",
            "\u001b[2K     \u001b[90m━━━━━━━━━━━━━━━━━━━━━━━━━━━━━━━━━━━━━━━━\u001b[0m \u001b[32m2.0/2.0 MB\u001b[0m \u001b[31m16.5 MB/s\u001b[0m eta \u001b[36m0:00:00\u001b[0m\n",
            "\u001b[?25hCollecting pytorch-lightning<2.2,>=2.0 (from gluonts[torch])\n",
            "  Downloading pytorch_lightning-2.1.4-py3-none-any.whl (778 kB)\n",
            "\u001b[2K     \u001b[90m━━━━━━━━━━━━━━━━━━━━━━━━━━━━━━━━━━━━━━━━\u001b[0m \u001b[32m778.1/778.1 kB\u001b[0m \u001b[31m17.8 MB/s\u001b[0m eta \u001b[36m0:00:00\u001b[0m\n",
            "\u001b[?25hRequirement already satisfied: scipy~=1.10 in /usr/local/lib/python3.10/dist-packages (from gluonts[torch]) (1.11.4)\n",
            "Requirement already satisfied: PyYAML<8.0,>=5.4 in /usr/local/lib/python3.10/dist-packages (from lightning<2.2,>=2.0->gluonts[torch]) (6.0.1)\n",
            "Requirement already satisfied: fsspec[http]<2025.0,>=2022.5.0 in /usr/local/lib/python3.10/dist-packages (from lightning<2.2,>=2.0->gluonts[torch]) (2023.6.0)\n",
            "Collecting lightning-utilities<2.0,>=0.8.0 (from lightning<2.2,>=2.0->gluonts[torch])\n",
            "  Downloading lightning_utilities-0.10.1-py3-none-any.whl (24 kB)\n",
            "Requirement already satisfied: packaging<25.0,>=20.0 in /usr/local/lib/python3.10/dist-packages (from lightning<2.2,>=2.0->gluonts[torch]) (23.2)\n",
            "Collecting torchmetrics<3.0,>=0.7.0 (from lightning<2.2,>=2.0->gluonts[torch])\n",
            "  Downloading torchmetrics-1.3.1-py3-none-any.whl (840 kB)\n",
            "\u001b[2K     \u001b[90m━━━━━━━━━━━━━━━━━━━━━━━━━━━━━━━━━━━━━━━━\u001b[0m \u001b[32m840.4/840.4 kB\u001b[0m \u001b[31m19.4 MB/s\u001b[0m eta \u001b[36m0:00:00\u001b[0m\n",
            "\u001b[?25hRequirement already satisfied: python-dateutil>=2.8.1 in /usr/local/lib/python3.10/dist-packages (from pandas<2.2.0,>=1.0->gluonts[torch]) (2.8.2)\n",
            "Requirement already satisfied: pytz>=2020.1 in /usr/local/lib/python3.10/dist-packages (from pandas<2.2.0,>=1.0->gluonts[torch]) (2023.4)\n",
            "Requirement already satisfied: annotated-types>=0.4.0 in /usr/local/lib/python3.10/dist-packages (from pydantic<3,>=1.7->gluonts[torch]) (0.6.0)\n",
            "Requirement already satisfied: pydantic-core==2.16.2 in /usr/local/lib/python3.10/dist-packages (from pydantic<3,>=1.7->gluonts[torch]) (2.16.2)\n",
            "Requirement already satisfied: filelock in /usr/local/lib/python3.10/dist-packages (from torch<3,>=1.9->gluonts[torch]) (3.13.1)\n",
            "Requirement already satisfied: sympy in /usr/local/lib/python3.10/dist-packages (from torch<3,>=1.9->gluonts[torch]) (1.12)\n",
            "Requirement already satisfied: networkx in /usr/local/lib/python3.10/dist-packages (from torch<3,>=1.9->gluonts[torch]) (3.2.1)\n",
            "Requirement already satisfied: jinja2 in /usr/local/lib/python3.10/dist-packages (from torch<3,>=1.9->gluonts[torch]) (3.1.3)\n",
            "Requirement already satisfied: triton==2.1.0 in /usr/local/lib/python3.10/dist-packages (from torch<3,>=1.9->gluonts[torch]) (2.1.0)\n",
            "Requirement already satisfied: requests in /usr/local/lib/python3.10/dist-packages (from fsspec[http]<2025.0,>=2022.5.0->lightning<2.2,>=2.0->gluonts[torch]) (2.31.0)\n",
            "Requirement already satisfied: aiohttp!=4.0.0a0,!=4.0.0a1 in /usr/local/lib/python3.10/dist-packages (from fsspec[http]<2025.0,>=2022.5.0->lightning<2.2,>=2.0->gluonts[torch]) (3.9.3)\n",
            "Requirement already satisfied: setuptools in /usr/local/lib/python3.10/dist-packages (from lightning-utilities<2.0,>=0.8.0->lightning<2.2,>=2.0->gluonts[torch]) (67.7.2)\n",
            "Requirement already satisfied: six>=1.5 in /usr/local/lib/python3.10/dist-packages (from python-dateutil>=2.8.1->pandas<2.2.0,>=1.0->gluonts[torch]) (1.16.0)\n",
            "Requirement already satisfied: MarkupSafe>=2.0 in /usr/local/lib/python3.10/dist-packages (from jinja2->torch<3,>=1.9->gluonts[torch]) (2.1.5)\n",
            "Requirement already satisfied: mpmath>=0.19 in /usr/local/lib/python3.10/dist-packages (from sympy->torch<3,>=1.9->gluonts[torch]) (1.3.0)\n",
            "Requirement already satisfied: aiosignal>=1.1.2 in /usr/local/lib/python3.10/dist-packages (from aiohttp!=4.0.0a0,!=4.0.0a1->fsspec[http]<2025.0,>=2022.5.0->lightning<2.2,>=2.0->gluonts[torch]) (1.3.1)\n",
            "Requirement already satisfied: attrs>=17.3.0 in /usr/local/lib/python3.10/dist-packages (from aiohttp!=4.0.0a0,!=4.0.0a1->fsspec[http]<2025.0,>=2022.5.0->lightning<2.2,>=2.0->gluonts[torch]) (23.2.0)\n",
            "Requirement already satisfied: frozenlist>=1.1.1 in /usr/local/lib/python3.10/dist-packages (from aiohttp!=4.0.0a0,!=4.0.0a1->fsspec[http]<2025.0,>=2022.5.0->lightning<2.2,>=2.0->gluonts[torch]) (1.4.1)\n",
            "Requirement already satisfied: multidict<7.0,>=4.5 in /usr/local/lib/python3.10/dist-packages (from aiohttp!=4.0.0a0,!=4.0.0a1->fsspec[http]<2025.0,>=2022.5.0->lightning<2.2,>=2.0->gluonts[torch]) (6.0.5)\n",
            "Requirement already satisfied: yarl<2.0,>=1.0 in /usr/local/lib/python3.10/dist-packages (from aiohttp!=4.0.0a0,!=4.0.0a1->fsspec[http]<2025.0,>=2022.5.0->lightning<2.2,>=2.0->gluonts[torch]) (1.9.4)\n",
            "Requirement already satisfied: async-timeout<5.0,>=4.0 in /usr/local/lib/python3.10/dist-packages (from aiohttp!=4.0.0a0,!=4.0.0a1->fsspec[http]<2025.0,>=2022.5.0->lightning<2.2,>=2.0->gluonts[torch]) (4.0.3)\n",
            "Requirement already satisfied: charset-normalizer<4,>=2 in /usr/local/lib/python3.10/dist-packages (from requests->fsspec[http]<2025.0,>=2022.5.0->lightning<2.2,>=2.0->gluonts[torch]) (3.3.2)\n",
            "Requirement already satisfied: idna<4,>=2.5 in /usr/local/lib/python3.10/dist-packages (from requests->fsspec[http]<2025.0,>=2022.5.0->lightning<2.2,>=2.0->gluonts[torch]) (3.6)\n",
            "Requirement already satisfied: urllib3<3,>=1.21.1 in /usr/local/lib/python3.10/dist-packages (from requests->fsspec[http]<2025.0,>=2022.5.0->lightning<2.2,>=2.0->gluonts[torch]) (2.0.7)\n",
            "Requirement already satisfied: certifi>=2017.4.17 in /usr/local/lib/python3.10/dist-packages (from requests->fsspec[http]<2025.0,>=2022.5.0->lightning<2.2,>=2.0->gluonts[torch]) (2024.2.2)\n",
            "Installing collected packages: lightning-utilities, torchmetrics, gluonts, pytorch-lightning, lightning\n",
            "Successfully installed gluonts-0.14.4 lightning-2.1.4 lightning-utilities-0.10.1 pytorch-lightning-2.1.4 torchmetrics-1.3.1\n"
          ]
        }
      ],
      "source": [
        "!pip install \"gluonts[torch]\""
      ]
    },
    {
      "cell_type": "code",
      "source": [
        "import pandas as pd\n",
        "import matplotlib.pyplot as plt\n",
        "\n",
        "from gluonts.dataset.pandas import PandasDataset\n",
        "from gluonts.dataset.split import split\n",
        "from gluonts.torch import DeepAREstimator"
      ],
      "metadata": {
        "id": "tmQit8EOEbY_",
        "colab": {
          "base_uri": "https://localhost:8080/"
        },
        "outputId": "c290de01-a253-48b8-ed02-bb200cd9a5a7"
      },
      "execution_count": 2,
      "outputs": [
        {
          "output_type": "stream",
          "name": "stderr",
          "text": [
            "/usr/local/lib/python3.10/dist-packages/gluonts/json.py:101: UserWarning: Using `json`-module for json-handling. Consider installing one of `orjson`, `ujson` to speed up serialization and deserialization.\n",
            "  warnings.warn(\n"
          ]
        }
      ]
    },
    {
      "cell_type": "code",
      "source": [
        "from sklearn.preprocessing import StandardScaler\n",
        "from scipy.interpolate import UnivariateSpline\n",
        "\n",
        "# Load data from CSV files\n",
        "df = pd.read_csv(\"DCCrho_data.csv\", index_col=0, parse_dates=True)\n",
        "df_exchange_rate = pd.read_csv(\"exchange_rates.csv\", index_col=0, parse_dates=True)\n",
        "df_oil_price = pd.read_csv(\"oil_data.csv\", index_col=0, parse_dates=True)\n",
        "\n",
        "# Merge all DataFrames on index\n",
        "merged_df = pd.merge(df, df_exchange_rate, how='outer', left_index=True, right_index=True)\n",
        "merged_df = pd.merge(merged_df, df_oil_price, how='outer', left_index=True, right_index=True)\n",
        "\n",
        "# If your index is not a datetime type, convert it to datetime\n",
        "merged_df.index = pd.to_datetime(merged_df.index)\n",
        "\n",
        "# For example, if your data is daily, set the frequency to 'D'\n",
        "merged_df = merged_df.asfreq('D')\n",
        "\n",
        "def fill_missing_with_spline(series):\n",
        "    # Extract indices of null values\n",
        "    null_indices = series[series.isnull()].index\n",
        "    # Extract non-null values\n",
        "    non_null_values = series.dropna()\n",
        "    # Create spline interpolation object with specified s value\n",
        "    spline = UnivariateSpline(non_null_values.index.astype(int), non_null_values.values, s=2)\n",
        "    # Interpolate null values\n",
        "    interpolated_values = spline(null_indices.astype(int))\n",
        "    # Replace null values with interpolated values\n",
        "    series.loc[null_indices] = interpolated_values\n",
        "    return series\n",
        "\n",
        "# Apply spline interpolation to each column of the DataFrame\n",
        "merged_df = merged_df.apply(fill_missing_with_spline, axis=0)\n",
        "\n",
        "# Initialize StandardScaler\n",
        "scaler = StandardScaler()\n",
        "\n",
        "# Extract exchange rate and oil price data\n",
        "exchange_rate_data = merged_df['USDBRL.X.Adjusted'].values.reshape(-1, 1)\n",
        "oil_price_data = merged_df['CL.F.Adjusted'].values.reshape(-1, 1)\n",
        "\n",
        "# Fit scaler on training data (compute mean and standard deviation)\n",
        "scaler.fit(exchange_rate_data)\n",
        "scaler.fit(oil_price_data)\n",
        "\n",
        "# Standardize exchange rate and oil price data\n",
        "scaled_exchange_rate_data = scaler.transform(exchange_rate_data)\n",
        "scaled_oil_price_data = scaler.transform(oil_price_data)\n",
        "\n",
        "# Update DataFrame with scaled data\n",
        "merged_df['Scaled_Exchange_Rate'] = scaled_exchange_rate_data\n",
        "merged_df['Scaled_Oil_Price'] = scaled_oil_price_data\n",
        "\n",
        "\n",
        "# Convert the DataFrame into a PandasDataset\n",
        "dataset = PandasDataset(\n",
        "    dataframes=merged_df,\n",
        "    target=\"DCCrho\",\n",
        "    feat_dynamic_real=[\"Scaled_Exchange_Rate\", \"Scaled_Oil_Price\"]  # Specify the dynamic features\n",
        ")\n"
      ],
      "metadata": {
        "colab": {
          "base_uri": "https://localhost:8080/"
        },
        "id": "wse909gHej8v",
        "outputId": "524694ce-ce87-4270-953d-a1922cec9f58"
      },
      "execution_count": 29,
      "outputs": [
        {
          "output_type": "stream",
          "name": "stdout",
          "text": [
            "              DCCrho  USDBRL.X.Adjusted  CL.F.Adjusted  Scaled_Exchange_Rate  \\\n",
            "Date                                                                           \n",
            "2018-01-02  0.608425           3.311000      58.877138             -3.300051   \n",
            "2018-01-03  0.663214           3.257800      61.630001             -3.302814   \n",
            "2018-01-04  0.669492           3.235500      62.009998             -3.303973   \n",
            "2018-01-05  0.671036           3.233100      61.439999             -3.304097   \n",
            "2018-01-06  0.646540           3.254965      61.042671             -3.302962   \n",
            "...              ...                ...            ...                   ...   \n",
            "2023-12-24  0.567170           4.869309      74.790175             -3.219105   \n",
            "2023-12-25  0.578769           4.858398      75.575556             -3.219671   \n",
            "2023-12-26  0.546226           4.869744      75.570000             -3.219082   \n",
            "2023-12-27  0.557909           4.813500      74.110001             -3.222004   \n",
            "2023-12-28  0.564986           4.826100      70.516997             -3.221349   \n",
            "\n",
            "            Scaled_Oil_Price  \n",
            "Date                          \n",
            "2018-01-02         -0.413669  \n",
            "2018-01-03         -0.270672  \n",
            "2018-01-04         -0.250933  \n",
            "2018-01-05         -0.280541  \n",
            "2018-01-06         -0.301181  \n",
            "...                      ...  \n",
            "2023-12-24          0.412933  \n",
            "2023-12-25          0.453730  \n",
            "2023-12-26          0.453441  \n",
            "2023-12-27          0.377601  \n",
            "2023-12-28          0.190963  \n",
            "\n",
            "[2187 rows x 5 columns]\n"
          ]
        }
      ]
    },
    {
      "cell_type": "code",
      "source": [
        "dataset"
      ],
      "metadata": {
        "colab": {
          "base_uri": "https://localhost:8080/"
        },
        "id": "MUt9ndX4b92A",
        "outputId": "a377e1c8-287a-4e3e-e320-6983f7214b61"
      },
      "execution_count": 21,
      "outputs": [
        {
          "output_type": "execute_result",
          "data": {
            "text/plain": [
              "PandasDataset<size=1, freq=D, num_feat_dynamic_real=0, num_past_feat_dynamic_real=0, num_feat_static_real=0, num_feat_static_cat=0, static_cardinalities=[]>"
            ]
          },
          "metadata": {},
          "execution_count": 21
        }
      ]
    },
    {
      "cell_type": "code",
      "source": [
        "from gluonts.dataset.split import split\n",
        "\n",
        "training_data, test_gen = split(dataset, offset=-240)\n",
        "\n",
        "test_data = test_gen.generate_instances(prediction_length=5, windows=48)\n"
      ],
      "metadata": {
        "id": "GMAqQumO2WqN"
      },
      "execution_count": 48,
      "outputs": []
    },
    {
      "cell_type": "code",
      "source": [
        "# Train the model\n",
        "model = DeepAREstimator(\n",
        "    prediction_length=5,\n",
        "    freq=\"D\",\n",
        "    dropout_rate=0.4,\n",
        "    num_layers=4,\n",
        "    lr=0.05,\n",
        "    trainer_kwargs={\"max_epochs\": 10}\n",
        ").train(training_data)\n"
      ],
      "metadata": {
        "colab": {
          "base_uri": "https://localhost:8080/",
          "height": 944,
          "referenced_widgets": [
            "11907a2881464a70a10aa5eb6d63099e",
            "f00e41c24e0b4fb38a653de914fa3c4a",
            "9982158d43e5420d894df9b93be0ba68",
            "a62640592aaa4156b444de9c61386060",
            "874b506fcfc94e888030ab39a6fff724",
            "d4652420bf5a4c289bdec0a308eae4b9",
            "b8219b40f47649ff9e5a7b9ee4560274",
            "874a4d224b894fe6af21ae0888449312",
            "1421be413374487a8f2b15fbc2f6a3f2",
            "1677c67f8ae3438dbe4fe1f4f881021c",
            "2a5227fc4c3647fb90c5c50272e154ae"
          ]
        },
        "id": "57f8Nw-fxz2w",
        "outputId": "8e2fc82e-1557-4a9b-a863-c068136a8ae5"
      },
      "execution_count": 49,
      "outputs": [
        {
          "output_type": "stream",
          "name": "stderr",
          "text": [
            "INFO: GPU available: False, used: False\n",
            "INFO:lightning.pytorch.utilities.rank_zero:GPU available: False, used: False\n",
            "INFO: TPU available: False, using: 0 TPU cores\n",
            "INFO:lightning.pytorch.utilities.rank_zero:TPU available: False, using: 0 TPU cores\n",
            "INFO: IPU available: False, using: 0 IPUs\n",
            "INFO:lightning.pytorch.utilities.rank_zero:IPU available: False, using: 0 IPUs\n",
            "INFO: HPU available: False, using: 0 HPUs\n",
            "INFO:lightning.pytorch.utilities.rank_zero:HPU available: False, using: 0 HPUs\n",
            "/usr/local/lib/python3.10/dist-packages/lightning/pytorch/trainer/configuration_validator.py:74: You defined a `validation_step` but have no `val_dataloader`. Skipping val loop.\n",
            "INFO: \n",
            "  | Name  | Type        | Params | In sizes                                                        | Out sizes  \n",
            "----------------------------------------------------------------------------------------------------------------------\n",
            "0 | model | DeepARModel | 52.1 K | [[1, 1], [1, 1], [1, 1097, 4], [1, 1097], [1, 1097], [1, 5, 4]] | [1, 100, 5]\n",
            "----------------------------------------------------------------------------------------------------------------------\n",
            "52.1 K    Trainable params\n",
            "0         Non-trainable params\n",
            "52.1 K    Total params\n",
            "0.208     Total estimated model params size (MB)\n",
            "INFO:lightning.pytorch.callbacks.model_summary:\n",
            "  | Name  | Type        | Params | In sizes                                                        | Out sizes  \n",
            "----------------------------------------------------------------------------------------------------------------------\n",
            "0 | model | DeepARModel | 52.1 K | [[1, 1], [1, 1], [1, 1097, 4], [1, 1097], [1, 1097], [1, 5, 4]] | [1, 100, 5]\n",
            "----------------------------------------------------------------------------------------------------------------------\n",
            "52.1 K    Trainable params\n",
            "0         Non-trainable params\n",
            "52.1 K    Total params\n",
            "0.208     Total estimated model params size (MB)\n"
          ]
        },
        {
          "output_type": "display_data",
          "data": {
            "text/plain": [
              "Training: |          | 0/? [00:00<?, ?it/s]"
            ],
            "application/vnd.jupyter.widget-view+json": {
              "version_major": 2,
              "version_minor": 0,
              "model_id": "11907a2881464a70a10aa5eb6d63099e"
            }
          },
          "metadata": {}
        },
        {
          "output_type": "stream",
          "name": "stderr",
          "text": [
            "INFO: Epoch 0, global step 50: 'train_loss' reached -1.02598 (best -1.02598), saving model to '/content/lightning_logs/version_8/checkpoints/epoch=0-step=50.ckpt' as top 1\n",
            "INFO:lightning.pytorch.utilities.rank_zero:Epoch 0, global step 50: 'train_loss' reached -1.02598 (best -1.02598), saving model to '/content/lightning_logs/version_8/checkpoints/epoch=0-step=50.ckpt' as top 1\n",
            "INFO: Epoch 1, global step 100: 'train_loss' reached -1.85320 (best -1.85320), saving model to '/content/lightning_logs/version_8/checkpoints/epoch=1-step=100.ckpt' as top 1\n",
            "INFO:lightning.pytorch.utilities.rank_zero:Epoch 1, global step 100: 'train_loss' reached -1.85320 (best -1.85320), saving model to '/content/lightning_logs/version_8/checkpoints/epoch=1-step=100.ckpt' as top 1\n",
            "INFO: Epoch 2, global step 150: 'train_loss' was not in top 1\n",
            "INFO:lightning.pytorch.utilities.rank_zero:Epoch 2, global step 150: 'train_loss' was not in top 1\n",
            "INFO: Epoch 3, global step 200: 'train_loss' reached -2.13670 (best -2.13670), saving model to '/content/lightning_logs/version_8/checkpoints/epoch=3-step=200.ckpt' as top 1\n",
            "INFO:lightning.pytorch.utilities.rank_zero:Epoch 3, global step 200: 'train_loss' reached -2.13670 (best -2.13670), saving model to '/content/lightning_logs/version_8/checkpoints/epoch=3-step=200.ckpt' as top 1\n",
            "INFO: Epoch 4, global step 250: 'train_loss' was not in top 1\n",
            "INFO:lightning.pytorch.utilities.rank_zero:Epoch 4, global step 250: 'train_loss' was not in top 1\n",
            "INFO: Epoch 5, global step 300: 'train_loss' was not in top 1\n",
            "INFO:lightning.pytorch.utilities.rank_zero:Epoch 5, global step 300: 'train_loss' was not in top 1\n",
            "INFO: Epoch 6, global step 350: 'train_loss' was not in top 1\n",
            "INFO:lightning.pytorch.utilities.rank_zero:Epoch 6, global step 350: 'train_loss' was not in top 1\n",
            "INFO: Epoch 7, global step 400: 'train_loss' was not in top 1\n",
            "INFO:lightning.pytorch.utilities.rank_zero:Epoch 7, global step 400: 'train_loss' was not in top 1\n",
            "INFO: Epoch 8, global step 450: 'train_loss' was not in top 1\n",
            "INFO:lightning.pytorch.utilities.rank_zero:Epoch 8, global step 450: 'train_loss' was not in top 1\n",
            "INFO: Epoch 9, global step 500: 'train_loss' was not in top 1\n",
            "INFO:lightning.pytorch.utilities.rank_zero:Epoch 9, global step 500: 'train_loss' was not in top 1\n",
            "INFO: `Trainer.fit` stopped: `max_epochs=10` reached.\n",
            "INFO:lightning.pytorch.utilities.rank_zero:`Trainer.fit` stopped: `max_epochs=10` reached.\n"
          ]
        }
      ]
    },
    {
      "cell_type": "code",
      "source": [
        "forecasts = list(model.predict(test_data.input))\n"
      ],
      "metadata": {
        "id": "c3CPrbA93V8u"
      },
      "execution_count": 50,
      "outputs": []
    },
    {
      "cell_type": "code",
      "source": [
        "# Plot predictions\n",
        "plt.plot(df[\"2023-05\":], color=\"black\")\n",
        "for forecast in forecasts:\n",
        "  forecast.plot()\n",
        "plt.legend([\"True values\"], loc=\"upper left\", fontsize=\"xx-small\")\n",
        "plt.xticks(rotation=45)\n",
        "plt.show()"
      ],
      "metadata": {
        "colab": {
          "base_uri": "https://localhost:8080/",
          "height": 466
        },
        "id": "2uCWoTW53X-b",
        "outputId": "ec31a37f-42cd-4070-a2c9-8aab7af18457"
      },
      "execution_count": 51,
      "outputs": [
        {
          "output_type": "display_data",
          "data": {
            "text/plain": [
              "<Figure size 640x480 with 1 Axes>"
            ],
            "image/png": "[encoded data removed]"
          },
          "metadata": {}
        }
      ]
    }
  ]
}